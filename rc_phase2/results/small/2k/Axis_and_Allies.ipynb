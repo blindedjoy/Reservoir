{
 "cells": [
  {
   "cell_type": "code",
   "execution_count": 2,
   "metadata": {},
   "outputs": [
    {
     "data": {
      "text/plain": [
       "[0]"
      ]
     },
     "execution_count": 2,
     "metadata": {},
     "output_type": "execute_result"
    }
   ],
   "source": [
    "list(range(1))"
   ]
  },
  {
   "cell_type": "code",
   "execution_count": 3,
   "metadata": {},
   "outputs": [
    {
     "data": {
      "text/plain": [
       "-0.5"
      ]
     },
     "execution_count": 3,
     "metadata": {},
     "output_type": "execute_result"
    }
   ],
   "source": [
    "min(-0.5,0)"
   ]
  },
  {
   "cell_type": "code",
   "execution_count": 4,
   "metadata": {},
   "outputs": [
    {
     "ename": "NameError",
     "evalue": "name 'egypt' is not defined",
     "output_type": "error",
     "traceback": [
      "\u001b[0;31m---------------------------------------------------------------------------\u001b[0m",
      "\u001b[0;31mNameError\u001b[0m                                 Traceback (most recent call last)",
      "\u001b[0;32m<ipython-input-4-c27d29a211cf>\u001b[0m in \u001b[0;36m<module>\u001b[0;34m\u001b[0m\n\u001b[1;32m      9\u001b[0m     \u001b[0mprint\u001b[0m\u001b[0;34m(\u001b[0m\u001b[0mdictt\u001b[0m\u001b[0;34m)\u001b[0m\u001b[0;34m\u001b[0m\u001b[0;34m\u001b[0m\u001b[0m\n\u001b[1;32m     10\u001b[0m \u001b[0;34m\u001b[0m\u001b[0m\n\u001b[0;32m---> 11\u001b[0;31m \u001b[0madj_infantry\u001b[0m\u001b[0;34m(\u001b[0m\u001b[0megypt\u001b[0m\u001b[0;34m)\u001b[0m\u001b[0;34m\u001b[0m\u001b[0;34m\u001b[0m\u001b[0m\n\u001b[0m",
      "\u001b[0;31mNameError\u001b[0m: name 'egypt' is not defined"
     ]
    }
   ],
   "source": [
    "def adj_infantry(dictt):\n",
    "    strong_inf_2_make = min(dictt[\"artillery\"], dictt[\"infantry\"])\n",
    "    print(dictt)\n",
    "    print(strong_inf_2_make )\n",
    "    if strong_inf_2_make > 0:\n",
    "        dictt[\"infantry\"] -= strong_inf_2_make\n",
    "        dictt = Merge(dictt, {\"strong_infantry\" :  strong_inf_2_make})\n",
    "    \n",
    "    print(dictt)\n",
    "    \n",
    "adj_infantry(egypt)"
   ]
  },
  {
   "cell_type": "code",
   "execution_count": 15,
   "metadata": {},
   "outputs": [],
   "source": [
    "import numpy as np\n",
    "import pandas as pd\n",
    "import seaborn as sns\n",
    "import matplotlib.pyplot as plt\n",
    "\n",
    "unit_cost = {\"infantry\" : 3, \"strong_infantry\" : 3.5,  \"artillery\" : 4, \"tank\" : 5, \"fighter\" : 10, \n",
    "                  \"bomber\" : 12, \"aaa\" : 5,\n",
    "             \"cruiser\" : 12, \"carrier\" : 14, \"sub\" : 6, \"destroyer\" : 8,\n",
    "            \"transport\" : 7, \"battleship\" : 20}\n",
    "land_unit_offense = {\"tank\" : 3, \"infantry\" : 1, \"strong_infantry\" : 2,\n",
    "                  \"bomber\" : 4, \"fighter\" : 3, \n",
    "                  \"aaa\" : 0, \"artillery\" : 2}\n",
    "land_unit_defense = {\"tank\" : 3, \"infantry\" : 2, \n",
    "                  \"bomber\" : 1, \"fighter\" : 4, \n",
    "                  \"aaa\" : 0, \"artillery\" : 2}\n",
    "\n",
    "sea_unit_offense = {\"carrier\" : 1, \"cruiser\" : 3, \"sub\" : 2, \"destroyer\" : 2,\n",
    "                   \"battleship\" : 4, \"fighter\": 3, \"bomber\" : 4}\n",
    "### need to adjust for sub.\n",
    "sea_unit_defense = {\"carrier\" : 2, \"cruiser\" : 3, \"sub\" : 1, \"destroyer\" : 2,\n",
    "                   \"battleship\" : 4, \"fighter\": 4}\n",
    "\n",
    "\n",
    "\n",
    "#attack_on_caucuses\n",
    "my_units = {\"infantry\" : 9, \"artillery\": 2, \"tank\" : 3, \"fighter\" : 3, \"bomber\" : 1,  }\n",
    "his_units = {\"infantry\" : 8, \"fighter\" : 1, \"aaa\" : 1}\n",
    "\n",
    "\n",
    "def zero_units_check(dictt):\n",
    "    summ = 0\n",
    "    for i in dictt.values():\n",
    "        summ += i\n",
    "    return(summ <= 0)\n",
    "\n",
    "def roll_die(unit, n, offDef, artillary_presence = 0, silent = True, method = \"land\"):\n",
    "    assert offDef in [\"offense\" , \"defense\"], \"You must choose either offense or defense\"\n",
    "    \n",
    "    if method == \"land\":\n",
    "        dict_set = {\"offense\" : land_unit_offense, \"defense\": land_unit_defense}\n",
    "    else:\n",
    "        dict_set = {\"offense\" : sea_unit_offense, \"defense\": sea_unit_defense}\n",
    "    \n",
    "    assert(method in [\"land\", \"sea\"])\n",
    "    \n",
    "    if offDef == \"offense\":\n",
    "        dictt = dict_set[\"offense\"]\n",
    "    else:\n",
    "        dictt = dict_set[\"defense\"]\n",
    "        \n",
    "    \n",
    "    strength = dictt[unit]\n",
    "    if offDef == \"offense\":\n",
    "        if unit == \"infantry\":\n",
    "            if artillary_presence > 0:\n",
    "                if silent == False:\n",
    "                    print(\"loss\")\n",
    "                strength = 2\n",
    "                \n",
    "\n",
    "    if silent != True:\n",
    "        print(\"strength \" + str(strength))\n",
    "    \n",
    "    if unit == \"battleship\":\n",
    "        if type(n) == float:\n",
    "            roll = list(np.random.choice(6, int(n*2) + 1))\n",
    "        else: \n",
    "            roll = list(np.random.choice(6, n) + 1)\n",
    "    else:\n",
    "        roll = list(np.random.choice(6, n) + 1)\n",
    "    \n",
    "    \n",
    "    total_hits = sum(pd.Series(roll) <= strength)\n",
    "    \n",
    "    if (total_hits > 0):\n",
    "        if silent != True:\n",
    "            print(unit + \" \" + str(total_hits) + \" hits\")\n",
    "    \n",
    "    return(total_hits)\n",
    "    \n",
    "def delete_zeros(dic):   \n",
    "    return {x:y for x,y in dic.items() if y!=0}\n",
    "    \n",
    "def attack(atk_units, defend_units, method = \"land\",\n",
    "           silent = True, victory = False, first_round = False):\n",
    "    if silent != True:\n",
    "        print(\"\\n\")\n",
    "        print(\"ATTACK!\")\n",
    "        \n",
    "    \n",
    "    \n",
    "    \n",
    "    if method == \"land\":\n",
    "        if first_round == True:\n",
    "            \"\"\"\n",
    "            if \"battleship\" in list(atk_units.keys()):\n",
    "                die_rolls = np.random.choice(6, atk_units[\"battleship\"]) < 4\n",
    "                if die_rolls:\n",
    "                    defend_units = delete_cheapest_unit(defend_units)\n",
    "                print\n",
    "            if \"cruiser\" in list(atk_units.keys()):\n",
    "                die_rolls = np.random.choice(6, atk_units[\"battleship\"]) < 3\n",
    "                if die_rolls:\n",
    "                    defend_units = delete_cheapest_unit(defend_units)\n",
    "                    \n",
    "            \"\"\"\n",
    "                \n",
    "            if \"fighter\" in list(atk_units.keys()):\n",
    "                air_units_killed = 0\n",
    "                #aaa stuff goes here\n",
    "\n",
    "                if \"aaa\" in list(defend_units.keys()):\n",
    "                    air_units_killed = 0\n",
    "                    for i in range(defend_units[\"aaa\"]):\n",
    "                        #print(\"firing aaa\")\n",
    "                        die_rolls = np.random.choice(6, atk_units[\"fighter\"]) < 1\n",
    "                        air_units_killed += sum(die_rolls)\n",
    "\n",
    "                atk_units[\"fighter\"] -= min(air_units_killed, 0)\n",
    "                \n",
    "                if air_units_killed != 0:\n",
    "                    if silent != True:\n",
    "                        print(str(air_units_killed) + \" fighters_destroyed\")\n",
    "\n",
    "        #atk_units = delete_zeros(atk_units)\n",
    "\n",
    "        \n",
    "\n",
    "    #artil = \"artillery\" in list(atk_units.keys())\n",
    "    #if artil:\n",
    "    #    atk_units[artil]\n",
    "        \n",
    "    atk_hits = 0\n",
    "    for unit, troops in atk_units.items():\n",
    "        if unit == \"battleship\":\n",
    "            if type(troops) == float:\n",
    "                atk_hits += roll_die(unit = unit, n = int(troops*2), method = method,\n",
    "                                 offDef = \"offense\", artillary_presence = False)\n",
    "        else:      \n",
    "            atk_hits += roll_die(unit = unit, n = troops, method = method,\n",
    "                                 offDef = \"offense\", artillary_presence = False)\n",
    "        \n",
    "    \n",
    "    dfnd_hits = 0\n",
    "    for unit, troops in defend_units.items():\n",
    "        dfnd_hits += roll_die(unit = unit, n = troops, offDef = \"defense\", method = method)\n",
    "    \n",
    "    ### now calculate new dicts\n",
    "    for i in range(atk_hits):\n",
    "        if zero_units_check(defend_units) == False:\n",
    "            defend_units = delete_cheapest_unit(defend_units)\n",
    "    \n",
    "        \n",
    "    for j in range(dfnd_hits):\n",
    "        if zero_units_check(atk_units) == False:\n",
    "            atk_units = delete_cheapest_unit(atk_units)\n",
    "        \n",
    "    battle = None\n",
    "    if zero_units_check(atk_units):\n",
    "        battle = \"loss\"\n",
    "\n",
    "    if zero_units_check(defend_units):\n",
    "        battle = \"victory\"\n",
    "        \n",
    "    if silent != True:\n",
    "        print(\"Attacker: \" + str(atk_hits ) + \" total hits\")\n",
    "        print(atk_units)\n",
    "        print(\"Defender: \" + str(dfnd_hits) + \" total hits\")\n",
    "        print(defend_units)\n",
    "    return({\"atk\" : atk_units, \n",
    "            \"defend\" :  defend_units, \n",
    "            \"battle_result\" : battle})\n",
    "def Merge(dict1, dict2): \n",
    "    res = {**dict1, **dict2} \n",
    "    return res \n",
    "\n",
    "def delete_cheapest_unit(curr_units_, silent = True):\n",
    "    if silent != True:\n",
    "        print(\"curr_units: \" + str(curr_units_))\n",
    "    if zero_units_check(curr_units_) :\n",
    "        return curr_units_\n",
    "    \n",
    "    curr_units = curr_units_.copy().copy()\n",
    "    unit_cost_ = {}\n",
    "    \n",
    "    current_battle_units = curr_units.keys()\n",
    "    \n",
    "    dead_units  = {}\n",
    "    alive_units = curr_units.copy()\n",
    "    \n",
    "    for unit, troops in curr_units.items():\n",
    "        if troops == 0:\n",
    "            # remove dead units\n",
    "            dead_units = Merge(dead_units, {unit : 0 })\n",
    "            alive_units.pop(unit)\n",
    "    alive_units_lst = list(alive_units.keys())\n",
    "    if silent != True:\n",
    "        print(\"alive units \" + str(alive_units))\n",
    "        print(\"dead units \" + str(dead_units))\n",
    "        print(\"unit_cost \" + str(unit_cost_))\n",
    "    for unit, troops in alive_units.items():\n",
    "        if unit not in list(dead_units.keys()):\n",
    "            unit_cost_ = Merge(unit_cost_, {unit : unit_cost[unit]})\n",
    "    \n",
    "    unit_2_del_idx = (np.argmin(list(unit_cost_.values())))\n",
    "    unit_2_del = alive_units_lst[unit_2_del_idx]\n",
    "    if unit_2_del == \"battleship\":\n",
    "        alive_units[unit_2_del] -= 0.5\n",
    "    else:\n",
    "        alive_units[unit_2_del] -= 1\n",
    "    #curr_units = delete_zeros(curr_units)\n",
    "    \n",
    "    all_units = Merge(alive_units, dead_units)\n",
    "    return(all_units)\n",
    "\n",
    "def big_picture(attacking_units, defending_units, nIter = 1000, silent = True, method = \"land\"):\n",
    "    \n",
    "    \n",
    "    \n",
    "    #impliment avg. units remaining\n",
    "    \"\"\"\n",
    "    for i in range(10):\n",
    "    if i == 0:\n",
    "        df = pd.DataFrame([A,B])\n",
    "        display(df)\n",
    "    else:\n",
    "        df_ = pd.DataFrame(A, index = [0])\n",
    "        df = pd.concat([df, df_])\n",
    "    answer = dict(round(df.mean(), 3))\n",
    "    print(answer)\n",
    "    display(df)\n",
    "    \"\"\"\n",
    "    #initialize counters\n",
    "    Wins, Losses = 0, 0\n",
    "    count_iter = 0\n",
    "\n",
    "    print(\"starting attacking units: \" + str(attacking_units))\n",
    "    print(\"starting defending units: \" + str(defending_units))\n",
    "\n",
    "    for j in range(nIter):\n",
    "        if silent != True:\n",
    "            print(\"\\n battle: \" + str(j))\n",
    "        count_iter += 1\n",
    "        # perspective is from attacker\n",
    "        atk, defend = attacking_units.copy(), defending_units.copy()\n",
    "        if silent != True:\n",
    "                print(\"starting attacking units: \" + str(atk))\n",
    "                print(\"starting defending units: \" + str(defend))\n",
    "                \n",
    "        for i in range(20):\n",
    "            \n",
    "            #Winner = None\n",
    "            if i == 0:\n",
    "                res = attack(atk, defend, method = method, \n",
    "                             silent = silent, first_round = True)\n",
    "            res = attack(atk, defend, method = method, \n",
    "                             silent = silent, first_round = False)\n",
    "                \n",
    "            \n",
    "            #result of battle\n",
    "            atk, defend = res[\"atk\"], res[\"defend\"]\n",
    "            battle_result = res[\"battle_result\"]\n",
    "                    \n",
    "            if silent != True:\n",
    "                print(\"round: \" + str(i))\n",
    "                print(\"remaining attacking units: \" + str(atk))\n",
    "                print(\"remaining defending units: \" + str(defend))\n",
    "                print(\"battle result: \" + str(battle_result))\n",
    "                \n",
    "            #return both win and loss units, find their average.\n",
    "            if battle_result != None:\n",
    "                if j == 0:\n",
    "                    df_atk    = pd.DataFrame(atk, index = [0])\n",
    "                    df_defend = pd.DataFrame(defend, index = [0])\n",
    "                else:\n",
    "                    # this battles result -> df\n",
    "                    df_atk_row = pd.DataFrame(atk, index = [0])\n",
    "                    df_defend_row = pd.DataFrame(defend, index = [0])\n",
    "                    #concat them:\n",
    "                    df_atk = pd.concat([df_atk, df_atk_row])\n",
    "                    df_defend = pd.concat([df_defend, df_defend_row])\n",
    "            \n",
    "            if battle_result == \"loss\":\n",
    "                if silent != True:\n",
    "                    print(\"BIG L\")\n",
    "                Losses += 1\n",
    "                break\n",
    "            \n",
    "            if battle_result == \"victory\":\n",
    "                if silent != True:\n",
    "                    print(\"BIG W\")\n",
    "                Wins += 1\n",
    "                break\n",
    "                \n",
    "\n",
    "            \n",
    "    \n",
    "    #after the battle:\n",
    "    #preprocessing: fill n/a's:\n",
    "    \n",
    "    df_defend, df_atk = df_defend.fillna(0), df_atk.fillna(0)\n",
    "    #\n",
    "    avg_atk_after = dict(round(df_atk.mean(), 3))\n",
    "       \n",
    "    avg_defend_after = dict(round(df_defend.mean(), 3))\n",
    "\n",
    "    \n",
    "    \n",
    "    print(\"Total Battles simulated: \" + str(nIter))\n",
    "    print(\"Probability of attacker victory: \" + str(100* Wins/(Wins + Losses)) + \"%\")\n",
    "    \n",
    "    \n",
    "    #print(\"Attacker Victories: \" + str(Wins))\n",
    "    #print(\"Attacker Losses: \"+ str(Losses))\n",
    "    \n",
    "    print(\"\\n\")\n",
    "    print(\"Attacker avg. units: \" + str(avg_atk_after))\n",
    "    print(\"Defender avg. units: \" + str(avg_defend_after))\n",
    "    \n",
    "    \n",
    "    ###PLOT\n",
    "    fig, ax = plt.subplots(1,2, figsize = (8, 6))\n",
    "    \n",
    "    ax[0].set_title(\"Attackers\")\n",
    "    #return(df_atk)\n",
    "    sns.boxplot(data = df_atk, ax = ax[0]) # kind=\"box\", \n",
    "    \n",
    "    sns.boxplot(data = df_defend, ax = ax[1])\n",
    "    ax[1].set_title(\"Defenders\")\n",
    "    \n",
    "    return(df_defend)\n",
    "   \n",
    "    "
   ]
  },
  {
   "cell_type": "code",
   "execution_count": 8,
   "metadata": {},
   "outputs": [
    {
     "name": "stdout",
     "output_type": "stream",
     "text": [
      "starting attacking units: {'battleship': 0, 'cruiser': 1, 'fighter': 2, 'destroyer': 1, 'sub': 2}\n",
      "starting defending units: {'cruiser': 1, 'sub': 0, 'fighter': 2, 'carrier': 1, 'battleship': 1}\n"
     ]
    },
    {
     "name": "stderr",
     "output_type": "stream",
     "text": [
      "/usr/local/anaconda3/lib/python3.7/site-packages/ipykernel_launcher.py:73: DeprecationWarning: The default dtype for empty Series will be 'object' instead of 'float64' in a future version. Specify a dtype explicitly to silence this warning.\n"
     ]
    },
    {
     "name": "stdout",
     "output_type": "stream",
     "text": [
      "Total Battles simulated: 1000\n",
      "Probability of attacker victory: 49.7%\n",
      "\n",
      "\n",
      "Attacker avg. units: {'cruiser': 0.356, 'fighter': 0.392, 'destroyer': 0.052, 'sub': 0.013, 'battleship': 0.0}\n",
      "Defender avg. units: {'battleship': 0.434, 'carrier': 0.22, 'cruiser': 0.087, 'fighter': 0.024, 'sub': 0.0}\n"
     ]
    },
    {
     "data": {
      "image/png": "[encoded data removed]",
      "text/plain": [
       "<Figure size 576x432 with 2 Axes>"
      ]
     },
     "metadata": {
      "needs_background": "light"
     },
     "output_type": "display_data"
    }
   ],
   "source": [
    "pearl_harbor_rev = {\"cruiser\" : 1, \n",
    "               \"sub\": 0,\n",
    "               \"fighter\" : 2,\n",
    "               \"carrier\" : 1,\n",
    "                \"battleship\": 1} # DONT\n",
    "pearl_harbor_rev_atk = {\"battleship\" : 0, \n",
    "                   \"cruiser\" : 1, \n",
    "                   \"fighter\": 2, \n",
    "                   \"destroyer\": 1, \n",
    "                   \"sub\": 2}\n",
    "\n",
    "hi = big_picture(attacking_units = pearl_harbor_rev_atk, defending_units = pearl_harbor_rev,\n",
    "                 nIter = 1000, silent = True, method = \"sea\")#, silent = False)"
   ]
  },
  {
   "cell_type": "code",
   "execution_count": 9,
   "metadata": {},
   "outputs": [
    {
     "name": "stdout",
     "output_type": "stream",
     "text": [
      "starting attacking units: {'fighter': 2, 'bomber': 0}\n",
      "starting defending units: {'destroyer': 2}\n"
     ]
    },
    {
     "name": "stderr",
     "output_type": "stream",
     "text": [
      "/usr/local/anaconda3/lib/python3.7/site-packages/ipykernel_launcher.py:73: DeprecationWarning: The default dtype for empty Series will be 'object' instead of 'float64' in a future version. Specify a dtype explicitly to silence this warning.\n"
     ]
    },
    {
     "name": "stdout",
     "output_type": "stream",
     "text": [
      "Total Battles simulated: 1000\n",
      "Probability of attacker victory: 72.5%\n",
      "\n",
      "\n",
      "Attacker avg. units: {'fighter': 0.881, 'bomber': 0.0}\n",
      "Defender avg. units: {'destroyer': 0.341}\n"
     ]
    },
    {
     "data": {
      "image/png": "[encoded data removed]",
      "text/plain": [
       "<Figure size 576x432 with 2 Axes>"
      ]
     },
     "metadata": {
      "needs_background": "light"
     },
     "output_type": "display_data"
    }
   ],
   "source": [
    "algeria = {\"fighter\" : 2, \"bomber\" : 0} #\"infantry\" : 0, \"tank\" : 0, \"artillery\" : 0, \n",
    "egypt   = {\"destroyer\" : 2}#{\"infantry\" : 3, \"artillery\" : 1, \"tank\" : 1, \"fighter\" : 1}\n",
    "\n",
    "hi = big_picture(attacking_units = algeria , defending_units = egypt, nIter = 1000, method = \"sea\",\n",
    "                 silent = True)"
   ]
  },
  {
   "cell_type": "code",
   "execution_count": 21,
   "metadata": {},
   "outputs": [
    {
     "name": "stdout",
     "output_type": "stream",
     "text": [
      "starting attacking units: {'infantry': 10, 'tank': 9, 'fighter': 3, 'artillery': 1}\n",
      "starting defending units: {'infantry': 14, 'tank': 3, 'artillery': 1, 'fighter': 2, 'aaa': 2}\n"
     ]
    },
    {
     "name": "stderr",
     "output_type": "stream",
     "text": [
      "/usr/local/anaconda3/lib/python3.7/site-packages/ipykernel_launcher.py:73: DeprecationWarning: The default dtype for empty Series will be 'object' instead of 'float64' in a future version. Specify a dtype explicitly to silence this warning.\n"
     ]
    },
    {
     "name": "stdout",
     "output_type": "stream",
     "text": [
      "Total Battles simulated: 1000\n",
      "Probability of attacker victory: 75.6%\n",
      "\n",
      "\n",
      "Attacker avg. units: {'fighter': 2.171, 'tank': 3.589, 'artillery': 0.053, 'infantry': 0.042}\n",
      "Defender avg. units: {'fighter': 0.465, 'aaa': 0.35, 'tank': 0.328, 'artillery': 0.06, 'infantry': 0.1}\n"
     ]
    },
    {
     "data": {
      "image/png": "[encoded data removed]",
      "text/plain": [
       "<Figure size 576x432 with 2 Axes>"
      ]
     },
     "metadata": {
      "needs_background": "light"
     },
     "output_type": "display_data"
    }
   ],
   "source": [
    "karelia = {\"infantry\" : 10, \"tank\" : 9, \"fighter\" : 3, \"artillery\" : 1} # DONT\n",
    "moscow = {\"infantry\" : 14, \"tank\" : 3, \"artillery\": 1, \"fighter\": 2, \"aaa\" : 2}\n",
    "\n",
    "hi = big_picture(attacking_units = karelia, defending_units = moscow, nIter = 1000, silent = True)#, silent = False)"
   ]
  },
  {
   "cell_type": "code",
   "execution_count": 257,
   "metadata": {},
   "outputs": [
    {
     "name": "stdout",
     "output_type": "stream",
     "text": [
      "starting attacking units: {'cruiser': 1, 'sub': 0, 'fighter': 1, 'carrier': 0, 'bomber': 0}\n",
      "starting defending units: {'battleship': 1, 'cruiser': 0, 'fighter': 0, 'destroyer': 0, 'sub': 0}\n"
     ]
    },
    {
     "name": "stderr",
     "output_type": "stream",
     "text": [
      "/usr/local/anaconda3/lib/python3.7/site-packages/ipykernel_launcher.py:73: DeprecationWarning: The default dtype for empty Series will be 'object' instead of 'float64' in a future version. Specify a dtype explicitly to silence this warning.\n"
     ]
    },
    {
     "name": "stdout",
     "output_type": "stream",
     "text": [
      "Total Battles simulated: 1000\n",
      "Probability of attacker victory: 62.8%\n",
      "\n",
      "\n",
      "Attacker avg. units: {'cruiser': 0.332, 'fighter': 0.096, 'sub': 0.0, 'carrier': 0.0, 'bomber': 0.0}\n",
      "Defender avg. units: {'battleship': 0.227, 'cruiser': 0.0, 'fighter': 0.0, 'destroyer': 0.0, 'sub': 0.0}\n"
     ]
    },
    {
     "data": {
      "image/png": "[encoded data removed]",
      "text/plain": [
       "<Figure size 576x432 with 2 Axes>"
      ]
     },
     "metadata": {
      "needs_background": "light"
     },
     "output_type": "display_data"
    }
   ],
   "source": [
    "pearl_harbor_atk = {\"cruiser\" : 1, \n",
    "               \"sub\": 0,\n",
    "               \"fighter\" : 1,\n",
    "               \"carrier\" : 0,\n",
    "               \"bomber\": 0} # DONT\n",
    "pearl_harbor = {\"battleship\" : 1, \n",
    "                   \"cruiser\" : 0, \n",
    "                   \"fighter\": 0, \n",
    "                   \"destroyer\": 0, \n",
    "                   \"sub\": 0}\n",
    "\n",
    "hi = big_picture(attacking_units = pearl_harbor_atk, defending_units = pearl_harbor,\n",
    "                 nIter = 1000, silent = True, method = \"sea\")#, silent = False)"
   ]
  },
  {
   "cell_type": "code",
   "execution_count": 52,
   "metadata": {},
   "outputs": [
    {
     "data": {
      "text/plain": [
       "False"
      ]
     },
     "execution_count": 52,
     "metadata": {},
     "output_type": "execute_result"
    }
   ],
   "source": [
    "zero_units_check(egypt)"
   ]
  },
  {
   "cell_type": "code",
   "execution_count": 259,
   "metadata": {},
   "outputs": [
    {
     "name": "stdout",
     "output_type": "stream",
     "text": [
      "starting attacking units: {'tank': 6, 'artillery': 1, 'infantry': 9, 'fighter': 2}\n",
      "starting defending units: {'fighter': 1, 'tank': 4, 'artillery': 1, 'infantry': 12}\n"
     ]
    },
    {
     "name": "stderr",
     "output_type": "stream",
     "text": [
      "/usr/local/anaconda3/lib/python3.7/site-packages/ipykernel_launcher.py:73: DeprecationWarning: The default dtype for empty Series will be 'object' instead of 'float64' in a future version. Specify a dtype explicitly to silence this warning.\n"
     ]
    },
    {
     "name": "stdout",
     "output_type": "stream",
     "text": [
      "Total Battles simulated: 10000\n",
      "Probability of attacker victory: 36.35%\n",
      "\n",
      "\n",
      "Attacker avg. units: {'tank': 0.904, 'fighter': 0.664, 'artillery': 0.022, 'infantry': 0.018}\n",
      "Defender avg. units: {'fighter': 0.636, 'tank': 1.989, 'artillery': 0.307, 'infantry': 0.599}\n"
     ]
    },
    {
     "data": {
      "image/png": "[encoded data removed]",
      "text/plain": [
       "<Figure size 576x432 with 2 Axes>"
      ]
     },
     "metadata": {
      "needs_background": "light"
     },
     "output_type": "display_data"
    }
   ],
   "source": [
    "karelia = {\"tank\" : 6, \"artillery\": 1, \"infantry\" : 9, \"fighter\": 2}\n",
    "atck_karelia = {\"fighter\" : 1, \"tank\" : 4, \"artillery\": 1, \"infantry\" : 12}\n",
    "\n",
    "hi = big_picture(attacking_units = karelia, defending_units = atck_karelia, nIter = 10000, silent = True)#, silent = False)"
   ]
  },
  {
   "cell_type": "code",
   "execution_count": 188,
   "metadata": {},
   "outputs": [
    {
     "name": "stdout",
     "output_type": "stream",
     "text": [
      "starting attacking units: {'bomber': 1, 'infantry': 9, 'artillery': 3}\n",
      "starting defending units: {'tank': 1, 'infantry': 3}\n"
     ]
    },
    {
     "name": "stderr",
     "output_type": "stream",
     "text": [
      "/usr/local/anaconda3/lib/python3.7/site-packages/ipykernel_launcher.py:73: DeprecationWarning: The default dtype for empty Series will be 'object' instead of 'float64' in a future version. Specify a dtype explicitly to silence this warning.\n"
     ]
    },
    {
     "name": "stdout",
     "output_type": "stream",
     "text": [
      "Total Battles simulated: 1000\n",
      "Probability of attacker victory: 100.0%\n",
      "\n",
      "\n",
      "Attacker avg. units: {'bomber': 1.0, 'infantry': 7.316, 'artillery': 3.0}\n",
      "Defender avg. units: {'tank': 0.0, 'infantry': 0.0}\n"
     ]
    },
    {
     "data": {
      "image/png": "[encoded data removed]",
      "text/plain": [
       "<Figure size 576x432 with 2 Axes>"
      ]
     },
     "metadata": {
      "needs_background": "light"
     },
     "output_type": "display_data"
    }
   ],
   "source": [
    "south_russia = {\"tank\" : 1, \"infantry\": 3}#3, \"infantry\" : 3, \"fighter\" : 1}\n",
    "moscow = {\"bomber\" : 1, \"infantry\" : 9, \"artillery\": 3}\n",
    "hi = big_picture(attacking_units = moscow, defending_units = south_russia, nIter = 1000, silent = True)#, silent = False)"
   ]
  },
  {
   "cell_type": "code",
   "execution_count": 191,
   "metadata": {},
   "outputs": [
    {
     "name": "stdout",
     "output_type": "stream",
     "text": [
      "starting attacking units: {'bomber': 0, 'infantry': 9, 'artillery': 3}\n",
      "starting defending units: {'tank': 5, 'infantry': 1}\n"
     ]
    },
    {
     "name": "stderr",
     "output_type": "stream",
     "text": [
      "/usr/local/anaconda3/lib/python3.7/site-packages/ipykernel_launcher.py:73: DeprecationWarning: The default dtype for empty Series will be 'object' instead of 'float64' in a future version. Specify a dtype explicitly to silence this warning.\n"
     ]
    },
    {
     "name": "stdout",
     "output_type": "stream",
     "text": [
      "Total Battles simulated: 1000\n",
      "Probability of attacker victory: 99.1%\n",
      "\n",
      "\n",
      "Attacker avg. units: {'bomber': 0.0, 'infantry': 4.838, 'artillery': 2.946}\n",
      "Defender avg. units: {'tank': 0.016, 'infantry': 0.0}\n"
     ]
    },
    {
     "data": {
      "image/png": "[encoded data removed]",
      "text/plain": [
       "<Figure size 576x432 with 2 Axes>"
      ]
     },
     "metadata": {
      "needs_background": "light"
     },
     "output_type": "display_data"
    }
   ],
   "source": [
    "south_russia = {\"tank\" : 5, \"infantry\": 1}#3, \"infantry\" : 3, \"fighter\" : 1}\n",
    "moscow = {\"bomber\" : 0, \"infantry\" : 9, \"artillery\": 3}\n",
    "hi = big_picture(attacking_units = moscow, defending_units = south_russia, nIter = 1000, silent = True)#, silent = False)"
   ]
  },
  {
   "cell_type": "code",
   "execution_count": 186,
   "metadata": {},
   "outputs": [
    {
     "name": "stdout",
     "output_type": "stream",
     "text": [
      "starting attacking units: {'sub': 3, 'destroyer': 1, 'fighter': 1}\n",
      "starting defending units: {'destroyer': 1, 'battleship': 1}\n"
     ]
    },
    {
     "name": "stderr",
     "output_type": "stream",
     "text": [
      "/usr/local/anaconda3/lib/python3.7/site-packages/ipykernel_launcher.py:73: DeprecationWarning: The default dtype for empty Series will be 'object' instead of 'float64' in a future version. Specify a dtype explicitly to silence this warning.\n"
     ]
    },
    {
     "name": "stdout",
     "output_type": "stream",
     "text": [
      "Total Battles simulated: 1000\n",
      "Probability of attacker victory: 95.3%\n",
      "\n",
      "\n",
      "Attacker avg. units: {'sub': 1.023, 'destroyer': 0.795, 'fighter': 0.894}\n",
      "Defender avg. units: {'battleship': 0.027, 'destroyer': 0.002}\n"
     ]
    },
    {
     "data": {
      "image/png": "[encoded data removed]",
      "text/plain": [
       "<Figure size 576x432 with 2 Axes>"
      ]
     },
     "metadata": {
      "needs_background": "light"
     },
     "output_type": "display_data"
    }
   ],
   "source": [
    "u_boats = {\"sub\" : 3, \"destroyer\": 1, \"fighter\" : 1}#3, \"infantry\" : 3, \"fighter\" : 1}\n",
    "merica = {\"destroyer\" : 1, \"battleship\" : 1}\n",
    "hi = big_picture(attacking_units = u_boats, defending_units = merica, nIter = 1000, silent = True, method = \"sea\")#, silent = False)"
   ]
  }
 ],
 "metadata": {
  "kernelspec": {
   "display_name": "Python 3",
   "language": "python",
   "name": "python3"
  },
  "language_info": {
   "codemirror_mode": {
    "name": "ipython",
    "version": 3
   },
   "file_extension": ".py",
   "mimetype": "text/x-python",
   "name": "python",
   "nbconvert_exporter": "python",
   "pygments_lexer": "ipython3",
   "version": "3.7.6"
  }
 },
 "nbformat": 4,
 "nbformat_minor": 4
}
