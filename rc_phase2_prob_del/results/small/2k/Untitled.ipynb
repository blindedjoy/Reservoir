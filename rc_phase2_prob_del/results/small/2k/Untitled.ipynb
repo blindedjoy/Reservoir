{
 "cells": [
  {
   "cell_type": "code",
   "execution_count": 375,
   "metadata": {},
   "outputs": [],
   "source": [
    "import numpy as np\n",
    "import pandas as pd\n",
    "land_unit_cost = {\"infantry\" : 3, \"artillery\" : 4, \"tank\" : 5, \"fighter\" : 10, \n",
    "                  \"bomber\" : 12, \"aaa\" : 5}\n",
    "land_unit_offense = {\"tank\" : 3, \"infantry\" : 1, \n",
    "                  \"bomber\" : 4, \"fighter\" : 3, \n",
    "                  \"aaa\" : 0, \"artillery\" : 2}\n",
    "land_unit_defense = {\"tank\" : 3, \"infantry\" : 2, \n",
    "                  \"bomber\" : 1, \"fighter\" : 4, \n",
    "                  \"aaa\" : 0, \"artillery\" : 2}\n",
    "\n",
    "#attack_on_caucuses\n",
    "my_units = {\"infantry\" : 9, \"artillery\": 2, \"tank\" : 3, \"fighter\" : 3, \"bomber\" : 1,  }\n",
    "his_units = {\"infantry\" : 8, \"fighter\" : 1, \"aaa\" : 1}\n",
    "\n",
    "def roll_die(unit, n, offDef, artillary_presence = False, silent = True):\n",
    "    assert offDef in [\"offense\" , \"defense\"], \"You must choose either offense or defense\"\n",
    "    \n",
    "    if offDef == \"offense\":\n",
    "        dictt = land_unit_offense\n",
    "        if unit == \"infantry\":\n",
    "            if artillary_presence == True:\n",
    "                strength = 2\n",
    "    else:\n",
    "        dictt = land_unit_defense\n",
    "    \n",
    "    strength = dictt[unit]\n",
    "    if silent != True:\n",
    "        print(\"strength \" + str(strength))\n",
    "        \n",
    "    roll = list(np.random.choice(6, n) + 1)\n",
    "    \n",
    "    \n",
    "    total_hits = sum(pd.Series(roll) <= strength)\n",
    "    \n",
    "    if (total_hits > 0):\n",
    "        if silent != True:\n",
    "            print(unit + \" \" + str(total_hits) + \" hits\")\n",
    "    \n",
    "    return(total_hits)\n",
    "    \n",
    "def delete_zeros(dic):   \n",
    "    return {x:y for x,y in dic.items() if y!=0}\n",
    "    \n",
    "def attack(H_units, L_units):\n",
    "    \n",
    "    H_units = delete_zeros(H_units)\n",
    "    \n",
    "    L_units = delete_zeros(L_units)\n",
    "    \n",
    "    \n",
    "    #aaa stuff goes here\n",
    "    print(H_units)\n",
    "    if \"aaa\" in list(L_units.keys()):\n",
    "        die_rolls = np.random.choice(6, 3) < 1\n",
    "        air_units_killed = sum(die_rolls)\n",
    "    my_units[\"fighter\"] -= air_units_killed\n",
    "    if air_units_killed != 0:\n",
    "        print(str(air_units_killed) + \" fighters_destroyed\")\n",
    "        \n",
    "    H_units = delete_zeros(H_units)\n",
    "    \n",
    "    hits = 0\n",
    "    summ = 0\n",
    "\n",
    "    artil = \"artillery\" in list(H_units.keys())\n",
    "    \n",
    "    for unit, troops in H_units.items():\n",
    "        if troops == 0:\n",
    "            my_units.pop(unit)\n",
    "\n",
    "    for unit, troops in H_units.items():\n",
    "        summ += roll_die(unit = unit, n = troops, offDef = \"offense\", artillary_presence = artil)\n",
    "        \n",
    "    hayden_hits = summ\n",
    "    #print(\"total hits: \" + str(summ))\n",
    "    print(\"Hayden: \" + str(summ) + \" total hits\")\n",
    "    summ = 0\n",
    "    for unit, troops in L_units.items():\n",
    "        summ += roll_die(unit = unit, n = troops, offDef = \"defense\")\n",
    "    print(\"Luka: \" + str(summ) + \" total hits\")\n",
    "    luka_hits = summ\n",
    "    print(my_units)\n",
    "    \n",
    "    ### now calculate new dicts\n",
    "    for i in range()\n",
    "        delete_cheapest_unit(my_units , 4)\n",
    "    \n",
    "    return([H_units, L_units])\n"
   ]
  },
  {
   "cell_type": "code",
   "execution_count": 345,
   "metadata": {},
   "outputs": [],
   "source": [
    "def Merge(dict1, dict2): \n",
    "    res = {**dict1, **dict2} \n",
    "    return res \n",
    "\n",
    "def delete_cheapest_unit(curr_units_, hits):\n",
    "    print(curr_units_)\n",
    "    curr_units = curr_units_.copy().copy()\n",
    "    unit_cost_ = {}\n",
    "    \n",
    "    units = list(curr_units.keys())\n",
    "    \n",
    "    current_battle_units = curr_units.keys()\n",
    "    \n",
    "    for unit, troops in curr_units.items():\n",
    "        unit_cost_ = Merge(unit_cost_, {unit : land_unit_cost[unit]})\n",
    "        \n",
    "    unit_2_del_idx = (np.argmin(list(unit_cost_.values())))\n",
    "    unit_2_del = units[unit_2_del_idx]\n",
    "    curr_units[unit_2_del] -= 1\n",
    "    return(curr_units)"
   ]
  },
  {
   "cell_type": "code",
   "execution_count": 346,
   "metadata": {},
   "outputs": [
    {
     "name": "stdout",
     "output_type": "stream",
     "text": [
      "{'infantry': 9, 'artillery': 2, 'tank': 3, 'fighter': 3, 'bomber': 1}\n"
     ]
    },
    {
     "data": {
      "text/plain": [
       "{'infantry': 8, 'artillery': 2, 'tank': 3, 'fighter': 3, 'bomber': 1}"
      ]
     },
     "execution_count": 346,
     "metadata": {},
     "output_type": "execute_result"
    }
   ],
   "source": [
    "delete_cheapest_unit(my_units , 4)"
   ]
  },
  {
   "cell_type": "code",
   "execution_count": 370,
   "metadata": {},
   "outputs": [
    {
     "data": {
      "text/plain": [
       "{}"
      ]
     },
     "execution_count": 370,
     "metadata": {},
     "output_type": "execute_result"
    }
   ],
   "source": [
    "delete_zeros({\"a\": 0})\n",
    "    "
   ]
  },
  {
   "cell_type": "code",
   "execution_count": 350,
   "metadata": {},
   "outputs": [
    {
     "data": {
      "text/plain": [
       "{}"
      ]
     },
     "execution_count": 350,
     "metadata": {},
     "output_type": "execute_result"
    }
   ],
   "source": [
    "hi = {\"a\" : 0}\n",
    "hi.pop(\"a\")\n",
    "hi"
   ]
  },
  {
   "cell_type": "code",
   "execution_count": null,
   "metadata": {},
   "outputs": [],
   "source": []
  }
 ],
 "metadata": {
  "kernelspec": {
   "display_name": "Python 3",
   "language": "python",
   "name": "python3"
  },
  "language_info": {
   "codemirror_mode": {
    "name": "ipython",
    "version": 3
   },
   "file_extension": ".py",
   "mimetype": "text/x-python",
   "name": "python",
   "nbconvert_exporter": "python",
   "pygments_lexer": "ipython3",
   "version": "3.7.6"
  }
 },
 "nbformat": 4,
 "nbformat_minor": 4
}
